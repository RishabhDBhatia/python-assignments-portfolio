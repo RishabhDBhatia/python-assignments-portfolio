{
 "cells": [
  {
   "cell_type": "code",
   "execution_count": 27,
   "id": "3682cc75-7c1b-44f4-b638-27842dd97d74",
   "metadata": {},
   "outputs": [
    {
     "name": "stdout",
     "output_type": "stream",
     "text": [
      "x1: 0.999999\n",
      "x2: 1.000001\n"
     ]
    }
   ],
   "source": [
    "import math\n",
    "\n",
    "def f(x):\n",
    "    return x**2\n",
    "\n",
    "c = 1\n",
    "E = 0.1\n",
    "n = 1000\n",
    "x1 = c\n",
    "x2 = c\n",
    "d = 0.000001\n",
    "delx = 10 ** (-8)\n",
    "\n",
    "def fPrime(x):\n",
    "    return (f(x + delx) - f(x - delx)) / (2 * delx)\n",
    "\n",
    "def L(x):\n",
    "    return f(c) + fPrime(c) * (x - c)\n",
    "\n",
    "for i in range(n):\n",
    "    x1 = x1 - d\n",
    "    if abs(f(x1) - L(x1)) <= E:\n",
    "        print(f\"x1: {x1}\")\n",
    "        break\n",
    "\n",
    "if abs(f(x1) - L(x1)) > E:\n",
    "    print(\"No x1 value found within the given iterations\")\n",
    "\n",
    "for i in range(n):\n",
    "    x2 = x2 + d\n",
    "    if abs(f(x2) - L(x2)) <= E:\n",
    "        print(f\"x2: {x2}\")\n",
    "        break\n",
    "\n",
    "if abs(f(x2) - L(x2)) > E:\n",
    "    print(\"No x2 value found within the given iterations\")"
   ]
  },
  {
   "cell_type": "code",
   "execution_count": 29,
   "id": "2382ccf3-f50f-4b87-95e8-3ff9bf7d402c",
   "metadata": {},
   "outputs": [
    {
     "name": "stdout",
     "output_type": "stream",
     "text": [
      "x1: 0.7853971633974483\n",
      "x2: 0.7853991633974483\n"
     ]
    }
   ],
   "source": [
    "def f(x):\n",
    "    return math.sin(x)\n",
    "\n",
    "c = math.pi/4\n",
    "E = 0.05\n",
    "n = 1000\n",
    "x1 = c\n",
    "x2 = c\n",
    "d = 0.000001\n",
    "delx = 10 ** (-8)\n",
    "\n",
    "def fPrime(x):\n",
    "    return (f(x + delx) - f(x - delx)) / (2 * delx)\n",
    "\n",
    "def L(x):\n",
    "    return f(c) + fPrime(c) * (x - c)\n",
    "\n",
    "for i in range(n):\n",
    "    x1 = x1 - d\n",
    "    if abs(f(x1) - L(x1)) <= E:\n",
    "        print(f\"x1: {x1}\")\n",
    "        break\n",
    "\n",
    "if abs(f(x1) - L(x1)) > E:\n",
    "    print(\"No x1 value found within the given iterations\")\n",
    "\n",
    "for i in range(n):\n",
    "    x2 = x2 + d\n",
    "    if abs(f(x2) - L(x2)) <= E:\n",
    "        print(f\"x2: {x2}\")\n",
    "        break\n",
    "\n",
    "if abs(f(x2) - L(x2)) > E:\n",
    "    print(\"No x2 value found within the given iterations\")"
   ]
  },
  {
   "cell_type": "code",
   "execution_count": 2,
   "id": "26f8da93-fb56-4ff4-b95d-19c9059a7de7",
   "metadata": {},
   "outputs": [
    {
     "name": "stdout",
     "output_type": "stream",
     "text": [
      "x1: -1e-06\n",
      "x2: 1e-06\n"
     ]
    }
   ],
   "source": [
    "def f(x):\n",
    "    return math.exp(x)\n",
    "\n",
    "c = 0\n",
    "E = 0.01\n",
    "\n",
    "n = 1000\n",
    "x1 = c\n",
    "x2 = c\n",
    "delx = 10 ** (-8)\n",
    "d = 0.000001\n",
    "\n",
    "\n",
    "def fPrime(x):\n",
    "    return (f(x + delx) - f(x - delx)) / (2 * delx)\n",
    "\n",
    "def L(x):\n",
    "    return f(c) + fPrime(c) * (x - c)\n",
    "\n",
    "for i in range(n):\n",
    "    x1 = x1 - d\n",
    "    if abs(f(x1) - L(x1)) <= E:\n",
    "        print(f\"x1: {x1}\")\n",
    "        break\n",
    "\n",
    "if abs(f(x1) - L(x1)) > E:\n",
    "    print(\"No x1 value found within the given iterations\")\n",
    "\n",
    "for i in range(n):\n",
    "    x2 = x2 + d\n",
    "    if abs(f(x2) - L(x2)) <= E:\n",
    "        print(f\"x2: {x2}\")\n",
    "        break\n",
    "\n",
    "if abs(f(x2) - L(x2)) > E:\n",
    "    print(\"No x2 value found within the given iterations\")"
   ]
  },
  {
   "cell_type": "code",
   "execution_count": 1,
   "id": "7499c969-c076-40e5-bbe4-741e12405c97",
   "metadata": {},
   "outputs": [
    {
     "name": "stdout",
     "output_type": "stream",
     "text": [
      "0.99999999999\n",
      "0.99999999999\n",
      "0.99999999999\n",
      "0.99999999999\n"
     ]
    }
   ],
   "source": [
    "import math\n",
    "\n",
    "def f(x):\n",
    "    return x**2\n",
    "\n",
    "c=1\n",
    "E=0.1\n",
    "\n",
    "n=100\n",
    "x1=c\n",
    "x2=c\n",
    "delx=10**(-8)\n",
    "d=0.00000000001\n",
    "def fPrime(x):\n",
    "    return (f(x+delx-f(x-delx))/(2*delx))\n",
    "\n",
    "def L(x):\n",
    "    return f(c)+fPrime(c)*(x-c)\n",
    "\n",
    "for i in range(n):\n",
    "    x1=x1-d\n",
    "    if abs(f(x1)-L(x1)) <=E:\n",
    "            print(x1)\n",
    "            break\n",
    "if abs(f(x1)-L(x1)) <=E:\n",
    "    print(x1)\n",
    "\n",
    "else:\n",
    "    print(\"NO X1 CAN BE FOUND\")\n",
    "\n",
    "for i in range(n):\n",
    "    x2=x2-d\n",
    "    if abs(f(x2)-L(x2)) <=E:\n",
    "            print(x2)\n",
    "            break\n",
    "if abs(f(x2)-L(x2)) <=E:\n",
    "    print(x2)\n",
    "\n",
    "else:\n",
    "    print(\"NO X2 CAN BE FOUND\")"
   ]
  },
  {
   "cell_type": "code",
   "execution_count": null,
   "id": "4f9c1f3e-f5bf-4cef-8e68-0ba942f6f7e4",
   "metadata": {},
   "outputs": [],
   "source": []
  }
 ],
 "metadata": {
  "kernelspec": {
   "display_name": "Python 3 (ipykernel)",
   "language": "python",
   "name": "python3"
  },
  "language_info": {
   "codemirror_mode": {
    "name": "ipython",
    "version": 3
   },
   "file_extension": ".py",
   "mimetype": "text/x-python",
   "name": "python",
   "nbconvert_exporter": "python",
   "pygments_lexer": "ipython3",
   "version": "3.11.4"
  }
 },
 "nbformat": 4,
 "nbformat_minor": 5
}
