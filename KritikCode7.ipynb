{
 "cells": [
  {
   "cell_type": "code",
   "execution_count": 21,
   "id": "be271db7-3d06-44b5-9572-04b7986f6e90",
   "metadata": {},
   "outputs": [
    {
     "name": "stdout",
     "output_type": "stream",
     "text": [
      "Null hypothesis rejected - FALSE.\n"
     ]
    }
   ],
   "source": [
    "import numpy as np\n",
    "from scipy.stats import t as t_distribution\n",
    "\n",
    "def calculate_t_value(sample_mean, null_mean, sample_std_dev, sample_size):\n",
    "    # Calculate the t-value for a hypothesis test\n",
    "    numerator = sample_mean - null_mean\n",
    "    denominator = sample_std_dev / np.sqrt(sample_size)\n",
    "    t_value = numerator / denominator\n",
    "    return t_value\n",
    "\n",
    "def find_critical_t_value(alpha, degrees_of_freedom):\n",
    "    # Find the critical t-value for a given significance level (alpha) and degrees of freedom\n",
    "    critical_t_value = t_distribution.ppf(1 - alpha / 2, degrees_of_freedom)\n",
    "    return critical_t_value\n",
    "\n",
    "def perform_hypothesis_test(scores, null_hypothesis):\n",
    "    # Perform a hypothesis test and print the result\n",
    "    sample_mean = np.mean(scores)\n",
    "    sample_std_dev = np.std(scores, ddof=1)\n",
    "    sample_size = len(scores)\n",
    "    \n",
    "    t_value = calculate_t_value(sample_mean, null_hypothesis, sample_std_dev, sample_size)\n",
    "    critical_t_value = find_critical_t_value(0.05, sample_size - 1)\n",
    "    \n",
    "    if -critical_t_value < t_value < critical_t_value:\n",
    "        # Null hypothesis is supported if t-value falls within the critical range\n",
    "        print('Null hypothesis supported - TRUE.')\n",
    "    else:\n",
    "        # Null hypothesis is rejected if t-value falls outside the critical range\n",
    "        print('Null hypothesis rejected - FALSE.')\n",
    "\n",
    "def main():\n",
    "    # Given data\n",
    "    scores = [92.64, 79.00, 84.79, 97.41, 93.68, 65.23, 84.50, 73.49, 73.97, 79.111]\n",
    "    null_hypothesis = 75\n",
    "    \n",
    "    # Perform hypothesis test\n",
    "    perform_hypothesis_test(scores, null_hypothesis)\n",
    "\n",
    "if __name__ == \"__main__\":\n",
    "    main()\n"
   ]
  },
  {
   "cell_type": "code",
   "execution_count": null,
   "id": "61e6461f-a756-4a62-a53b-7ef504b3a2eb",
   "metadata": {},
   "outputs": [],
   "source": []
  },
  {
   "cell_type": "code",
   "execution_count": null,
   "id": "bb20c303-8f09-4142-a919-9505d42dacd3",
   "metadata": {},
   "outputs": [],
   "source": []
  },
  {
   "cell_type": "code",
   "execution_count": null,
   "id": "3af1d93c-5800-4a73-b694-d5c3eb5b9c6d",
   "metadata": {},
   "outputs": [],
   "source": []
  }
 ],
 "metadata": {
  "kernelspec": {
   "display_name": "Python 3 (ipykernel)",
   "language": "python",
   "name": "python3"
  },
  "language_info": {
   "codemirror_mode": {
    "name": "ipython",
    "version": 3
   },
   "file_extension": ".py",
   "mimetype": "text/x-python",
   "name": "python",
   "nbconvert_exporter": "python",
   "pygments_lexer": "ipython3",
   "version": "3.11.4"
  }
 },
 "nbformat": 4,
 "nbformat_minor": 5
}
