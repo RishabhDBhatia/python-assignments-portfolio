{
 "cells": [
  {
   "cell_type": "code",
   "execution_count": 2,
   "id": "be271db7-3d06-44b5-9572-04b7986f6e90",
   "metadata": {},
   "outputs": [
    {
     "name": "stdin",
     "output_type": "stream",
     "text": [
      "a:  0\n",
      "b:  1\n"
     ]
    },
    {
     "name": "stdout",
     "output_type": "stream",
     "text": [
      "0.2698741257\n"
     ]
    }
   ],
   "source": [
    "import math\n",
    "\n",
    "def func(f, a, b):\n",
    "    if f(a) * f(b) >= 0:\n",
    "        print(\"INVALID INTERVAL!!!\")\n",
    "        return None\n",
    "    while b - a >= 0.0000001:\n",
    "        r = (a + b) / 2\n",
    "        if f(a) * f(r) < 0:\n",
    "            b = r\n",
    "        else:\n",
    "            a = r\n",
    "    return round((a + b) / 2, 10)\n",
    "\n",
    "def f(x):\n",
    "    if x == 0:\n",
    "        x = x + 0.0000001\n",
    "    return math.exp(x) + math.log(x)\n",
    "\n",
    "a = float(input(\"a: \"))\n",
    "b = float(input(\"b: \"))\n",
    "print(func(f, a, b))\n"
   ]
  },
  {
   "cell_type": "code",
   "execution_count": 3,
   "id": "61e6461f-a756-4a62-a53b-7ef504b3a2eb",
   "metadata": {},
   "outputs": [
    {
     "name": "stdin",
     "output_type": "stream",
     "text": [
      "a:  0\n",
      "b:  2\n"
     ]
    },
    {
     "name": "stdout",
     "output_type": "stream",
     "text": [
      "0.8336062133\n"
     ]
    }
   ],
   "source": [
    "import math\n",
    "\n",
    "def func(f, a, b):\n",
    "    if f(a) * f(b) >= 0:\n",
    "        print(\"INVALID INTERVAL!!!\")\n",
    "        return None\n",
    "    while b - a >= 0.0000001:\n",
    "        r = (a + b) / 2\n",
    "        if f(a) * f(r) < 0:\n",
    "            b = r\n",
    "        else:\n",
    "            a = r\n",
    "    return round((a + b) / 2, 10)\n",
    "\n",
    "def f(x):\n",
    "    if x == 0:\n",
    "        x = x + 0.0000001\n",
    "    return math.atan(x) - x**2\n",
    "\n",
    "a = float(input(\"a: \"))\n",
    "b = float(input(\"b: \"))\n",
    "print(func(f, a, b))\n"
   ]
  },
  {
   "cell_type": "code",
   "execution_count": 4,
   "id": "bb20c303-8f09-4142-a919-9505d42dacd3",
   "metadata": {},
   "outputs": [
    {
     "name": "stdin",
     "output_type": "stream",
     "text": [
      "a:  3\n",
      "b:  4\n"
     ]
    },
    {
     "name": "stdout",
     "output_type": "stream",
     "text": [
      "3.1415926516\n"
     ]
    }
   ],
   "source": [
    "import math\n",
    "\n",
    "def func(f, a, b):\n",
    "    if f(a) * f(b) >= 0:\n",
    "        print(\"INVALID INTERVAL!!!\")\n",
    "        return None\n",
    "    while b - a >= 0.0000001:\n",
    "        r = (a + b) / 2\n",
    "        if f(a) * f(r) < 0:\n",
    "            b = r\n",
    "        else:\n",
    "            a = r\n",
    "    return round((a + b) / 2, 10)\n",
    "\n",
    "def f(x):\n",
    "    if x == 0:\n",
    "        x = x + 0.0000001\n",
    "    return math.sin(x) / math.log(x)\n",
    "\n",
    "a = float(input(\"a: \"))\n",
    "b = float(input(\"b: \"))\n",
    "print(func(f, a, b))"
   ]
  },
  {
   "cell_type": "code",
   "execution_count": 5,
   "id": "3af1d93c-5800-4a73-b694-d5c3eb5b9c6d",
   "metadata": {},
   "outputs": [
    {
     "name": "stdin",
     "output_type": "stream",
     "text": [
      "a:  0\n",
      "b:  1\n"
     ]
    },
    {
     "name": "stdout",
     "output_type": "stream",
     "text": [
      "INVALID INTERVAL!!!\n",
      "None\n"
     ]
    }
   ],
   "source": [
    "import math\n",
    "\n",
    "def func(f, a, b):\n",
    "    if f(a) * f(b) >= 0:\n",
    "        print(\"INVALID INTERVAL!!!\")\n",
    "        return None\n",
    "    while b - a >= 0.0000001:\n",
    "        r = (a + b) / 2\n",
    "        if f(a) * f(r) < 0:\n",
    "            b = r\n",
    "        else:\n",
    "            a = r\n",
    "    return round((a + b) / 2, 10)\n",
    "\n",
    "def f(x):\n",
    "    if x == 0:\n",
    "        x = x + 0.0000001\n",
    "    return math.log(math.cos(x))\n",
    "\n",
    "a = float(input(\"a: \"))\n",
    "b = float(input(\"b: \"))\n",
    "\n",
    "print(func(f, a, b))"
   ]
  },
  {
   "cell_type": "code",
   "execution_count": null,
   "id": "d782bd5f-4e28-42da-9342-91bf0253de4a",
   "metadata": {},
   "outputs": [],
   "source": []
  }
 ],
 "metadata": {
  "kernelspec": {
   "display_name": "Python 3 (ipykernel)",
   "language": "python",
   "name": "python3"
  },
  "language_info": {
   "codemirror_mode": {
    "name": "ipython",
    "version": 3
   },
   "file_extension": ".py",
   "mimetype": "text/x-python",
   "name": "python",
   "nbconvert_exporter": "python",
   "pygments_lexer": "ipython3",
   "version": "3.11.4"
  }
 },
 "nbformat": 4,
 "nbformat_minor": 5
}
