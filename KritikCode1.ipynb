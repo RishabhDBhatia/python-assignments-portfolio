{
 "cells": [
  {
   "cell_type": "code",
   "execution_count": 13,
   "id": "98037983-f6f2-424f-8a1d-c9f238fb82ef",
   "metadata": {},
   "outputs": [
    {
     "name": "stdout",
     "output_type": "stream",
     "text": [
      "arctan_approx(-1) = ERROR! PLEASE PICK A NUMBER BETWEEN 0 and 1!\n",
      "arctan_approx(0) = (0, 0, 0.0)\n",
      "arctan_approx(0.25) = (0.24498697916666665, 3, 8.719308035714285e-06)\n",
      "arctan_approx(0.5) = (0.46368427579365074, 5, 4.438920454545455e-05)\n",
      "arctan_approx(0.75) = (0.6435394700943785, 11, 5.816761029294689e-05)\n",
      "arctan_approx(1) = (0.7853481633979478, 5000, 9.999000099990002e-05)\n"
     ]
    }
   ],
   "source": [
    "def arctan_approx(x, err=0.0001):\n",
    "    if not (0 <= x <= 1):\n",
    "        return \"ERROR! PLEASE PICK A NUMBER BETWEEN 0 and 1!\"\n",
    "    else:\n",
    "        n = 0\n",
    "        approx = 0\n",
    "        while (x**(2*n+1))/(2*n+1) > err:\n",
    "            approx = approx + ((-1)**n)*(x**(2*n+1))/(2*n+1)\n",
    "            n += 1\n",
    "    return approx, n, ((x**(2*n+1))/(2*n+1))\n",
    "\n",
    "test_values = [-1, 0, 0.25, 0.5, 0.75, 1]\n",
    "for i in test_values:\n",
    "    print(\"arctan_approx(\" + str(i) + \") =\", arctan_approx(i))\n"
   ]
  },
  {
   "cell_type": "code",
   "execution_count": null,
   "id": "71c24a6e-8a32-49a3-9cb8-6838469541d1",
   "metadata": {},
   "outputs": [],
   "source": []
  }
 ],
 "metadata": {
  "kernelspec": {
   "display_name": "Python 3 (ipykernel)",
   "language": "python",
   "name": "python3"
  },
  "language_info": {
   "codemirror_mode": {
    "name": "ipython",
    "version": 3
   },
   "file_extension": ".py",
   "mimetype": "text/x-python",
   "name": "python",
   "nbconvert_exporter": "python",
   "pygments_lexer": "ipython3",
   "version": "3.11.4"
  }
 },
 "nbformat": 4,
 "nbformat_minor": 5
}
