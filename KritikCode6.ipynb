{
 "cells": [
  {
   "cell_type": "code",
   "execution_count": 5,
   "id": "1222a648-c449-4262-b27f-9f800d2dd599",
   "metadata": {},
   "outputs": [
    {
     "name": "stdout",
     "output_type": "stream",
     "text": [
      "Integrated Area: 0.8937539178438424\n"
     ]
    }
   ],
   "source": [
    "import numpy as np\n",
    "import matplotlib.pyplot as plt\n",
    "\n",
    "def normal_density(mean, variance, x):\n",
    "    coefficient = 1 / np.sqrt(2 * np.pi * variance)\n",
    "    exponent_term = np.exp(-(x - mean)**2 / (2 * variance))\n",
    "    return coefficient * exponent_term\n",
    "\n",
    "def integrate_normal_density(mean, variance, a, b, num_steps=10000):\n",
    "    delta_x = (b - a) / num_steps\n",
    "    x_values = np.linspace(a, b, num_steps)\n",
    "    area = np.sum(normal_density(mean, variance, x_values) * delta_x)\n",
    "    return area\n",
    "\n",
    "def plot_normal_distribution(mean, variance, a, b, num_points=10000):\n",
    "    x_coords = np.linspace(a, b, num_points)\n",
    "    y_coords = normal_density(mean, variance, x_coords)\n",
    "\n",
    "    plt.plot(x_coords, y_coords)\n",
    "    plt.title('Normal Distribution')\n",
    "    plt.xlabel('x')\n",
    "    plt.ylabel('Density')\n",
    "    plt.show()\n",
    "\n",
    "# Example usage:\n",
    "mean_value = 171\n",
    "variance_value = 7.1**2\n",
    "lower_limit = 162\n",
    "upper_limit = 190\n",
    "\n",
    "area_result = integrate_normal_density(mean_value, variance_value, lower_limit, upper_limit)\n",
    "print(\"Integrated Area:\", area_result)\n",
    "\n",
    "# Uncomment the next line if you want to plot the normal distribution curve\n",
    "# plot_normal_distribution(mean_value, variance_value, lower_limit, upper_limit)\n"
   ]
  },
  {
   "cell_type": "code",
   "execution_count": null,
   "id": "4586ef19-0990-4958-a6cb-fd6ea9f7d481",
   "metadata": {},
   "outputs": [],
   "source": []
  }
 ],
 "metadata": {
  "kernelspec": {
   "display_name": "Python 3 (ipykernel)",
   "language": "python",
   "name": "python3"
  },
  "language_info": {
   "codemirror_mode": {
    "name": "ipython",
    "version": 3
   },
   "file_extension": ".py",
   "mimetype": "text/x-python",
   "name": "python",
   "nbconvert_exporter": "python",
   "pygments_lexer": "ipython3",
   "version": "3.11.4"
  }
 },
 "nbformat": 4,
 "nbformat_minor": 5
}
